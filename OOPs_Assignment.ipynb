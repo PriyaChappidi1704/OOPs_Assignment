{
  "nbformat": 4,
  "nbformat_minor": 0,
  "metadata": {
    "colab": {
      "provenance": []
    },
    "kernelspec": {
      "name": "python3",
      "display_name": "Python 3"
    },
    "language_info": {
      "name": "python"
    }
  },
  "cells": [
    {
      "cell_type": "markdown",
      "source": [
        "# **OOPS Assignment**"
      ],
      "metadata": {
        "id": "r4Ux37rDWua4"
      }
    },
    {
      "cell_type": "markdown",
      "source": [
        "1. What is Object-Oriented Programming (OOP)?\n",
        "  - OOP is a programming approach that focuses on using objects and classes for organizing code. It helps in modeling real-world entities and managing large projects easily.\n",
        "2. What is a class in OOP?\n",
        "  - A class is a blueprint or template that defines attributes (variables) and methods (functions) which are shared by its objects. It helps in creating multiple objects with similar features.\n",
        "3. What is an object in OOP?\n",
        "  - An object is an instance of a class which has its own data and behavior. It is created using the class and represents real-world entities like a car, student, etc.\n",
        "4. What is the difference between abstraction and encapsulation?\n",
        "  - Abstraction hides the internal details and shows only essential features to users, while encapsulation binds data and methods into a single unit and restricts direct access.\n",
        "5. What are dunder methods in Python?\n",
        "  - Dunder (Double Underscore) methods are special methods like _init_(), _str_(), _len_() which start and end with double underscores. They define the behavior of objects.\n",
        "6. Explain the concept of inheritance in OOP.\n",
        "  - Inheritance allows one class (child class) to acquire properties and methods of another class (parent class). It promotes code reusability and supports hierarchical classification.\n",
        "7. What is polymorphism in OOP?\n",
        "  - Polymorphism means using a single function name or operator to perform different tasks based on the type of object or input given.\n",
        "8. How is encapsulation achieved in Python?\n",
        "  - Encapsulation is achieved by making variables private using __ or _ and accessing them through getter and setter methods to protect data from unauthorized access.\n",
        "9. What is a constructor in Python?\n",
        "  - A constructor is a special method in Python called _init_() which is automatically executed when an object of a class is created. It initializes the object's attributes.\n",
        "10. What are class and static methods in Python?\n",
        "  - Class methods use @classmethod decorator and access class variables using cls. Static methods use @staticmethod and do not access class or instance variables.\n",
        "11. What is method overloading in Python?\n",
        "  - Method overloading means creating multiple methods with the same name but different parameters. Python does not directly support it but can achieve it using default or variable arguments.\n",
        "12. What is method overriding in OOP?\n",
        "  - Method overriding means redefining the parent class method in the child class with the same name and parameters to change or extend its functionality.\n",
        "13. What is a property decorator in Python?\n",
        "  - A property decorator @property is used to convert class methods into read-only properties and control access to class attributes using getter and setter.\n",
        "14. Why is polymorphism important in OOP?\n",
        "  - Polymorphism increases flexibility, improves code readability, and allows the same function or method to work in different ways depending on the object.\n",
        "15. What is an abstract class in Python?\n",
        "  - An abstract class is a class with at least one abstract method (using @abstractmethod). It cannot be instantiated directly and forces derived classes to implement abstract methods.\n",
        "16. What are the advantages of OOP?\n",
        "  - OOP offers benefits like code reusability, easy debugging, real-world modeling, better data security, and maintainability of code.\n",
        "17. What is the difference between a class variable and an instance variable?\n",
        "  - Class variables are shared by all objects of a class, while instance variables are unique to each object and are defined using self.\n",
        "18. What is multiple inheritance in Python?\n",
        "  - Multiple inheritance means a class can inherit features from more than one parent class. It helps in combining properties of multiple classes into one.\n",
        "19. Explain the purpose of ''_ _str_ _' and '_ _repr_ _'' methods in Python.\n",
        "  - _ _str_ _ returns a readable string for end-users, while _ _repr_ _ returns a developer-friendly string useful for debugging.\n",
        "20. What is the significance of the ‘super()’ function in Python?\n",
        "  - The super() function is used to call the parent class methods from the child class. It helps in accessing inherited methods easily.\n",
        "21. What is the significance of the _ _del_ _ method in Python?\n",
        "  - _ _del_ _ is a destructor method which is called automatically when an object is deleted or garbage collected to perform clean-up actions.\n",
        "22. What is the difference between @staticmethod and @classmethod in Python?\n",
        "  - Static methods use @staticmethod and don't access class or object data. Class methods use @classmethod and access class variables using cls.\n",
        "23. How does polymorphism work in Python with inheritance?\n",
        "  - In inheritance, polymorphism allows child classes to define their own version of the methods present in the parent class, changing the behavior as needed.\n",
        "24.  What is method chaining in Python OOP?\n",
        "  - Method chaining means calling multiple methods on the same object in a single line because each method returns the object itself (self).\n",
        "25. What is the purpose of the _ _call_ _ method in Python?\n",
        "  - The _ _call_ _ method allows an object to be called like a function, enabling the object to behave like a callable function.\n"
      ],
      "metadata": {
        "id": "OcFvoCD-W9MP"
      }
    },
    {
      "cell_type": "code",
      "source": [
        "#1. Create a parent class Animal with a method speak() that prints a generic message. Create a child class Dog that overrides the speak() method to print \"Bark!\".\n",
        "class Animal:\n",
        "    def speak(self):\n",
        "        print(\"Animal speaks\")\n",
        "class Dog(Animal):\n",
        "    def speak(self):\n",
        "        print(\"Bark!\")\n",
        "d = Dog()\n",
        "d.speak()"
      ],
      "metadata": {
        "colab": {
          "base_uri": "https://localhost:8080/"
        },
        "id": "npNu5QbBljoS",
        "outputId": "e08e2b1a-a729-4e4f-8fb3-ccc9bfd0429f"
      },
      "execution_count": 1,
      "outputs": [
        {
          "output_type": "stream",
          "name": "stdout",
          "text": [
            "Bark!\n"
          ]
        }
      ]
    },
    {
      "cell_type": "code",
      "source": [
        "#2. Write a program to create an abstract class Shape with a method area(). Derive classes Circle and Rectangle from it and implement the area() method in both.\n",
        "from abc import ABC, abstractmethod\n",
        "class Shape(ABC):\n",
        "    @abstractmethod\n",
        "    def area(self):\n",
        "        pass\n",
        "class Circle(Shape):\n",
        "    def __init__(self, radius):\n",
        "        self.radius = radius\n",
        "    def area(self):\n",
        "        return 3.14 * self.radius * self.radius\n",
        "class Rectangle(Shape):\n",
        "    def __init__(self, length, breadth):\n",
        "        self.length = length\n",
        "        self.breadth = breadth\n",
        "    def area(self):\n",
        "        return self.length * self.breadth\n",
        "c = Circle(5)\n",
        "r = Rectangle(4, 6)\n",
        "print(c.area())\n",
        "print(r.area())\n"
      ],
      "metadata": {
        "colab": {
          "base_uri": "https://localhost:8080/"
        },
        "id": "8Wpa4Ngil4sT",
        "outputId": "9e42224a-030b-4e47-f34f-ee55e420c4d1"
      },
      "execution_count": 2,
      "outputs": [
        {
          "output_type": "stream",
          "name": "stdout",
          "text": [
            "78.5\n",
            "24\n"
          ]
        }
      ]
    },
    {
      "cell_type": "code",
      "source": [
        "#3. Implement a multi-level inheritance scenario where a class Vehicle has an attribute type. Derive a class Car and further derive a class ElectricCar that adds a battery attribute.\n",
        "class Vehicle:\n",
        "    def __init__(self, type):\n",
        "        self.type = type\n",
        "class Car(Vehicle):\n",
        "    def __init__(self, type, brand):\n",
        "        super().__init__(type)\n",
        "        self.brand = brand\n",
        "class ElectricCar(Car):\n",
        "    def __init__(self, type, brand, battery):\n",
        "        super().__init__(type, brand)\n",
        "        self.battery = battery\n",
        "e = ElectricCar(\"Four Wheeler\", \"Tesla\", \"100 kWh\")\n",
        "print(e.type, e.brand, e.battery)\n"
      ],
      "metadata": {
        "colab": {
          "base_uri": "https://localhost:8080/"
        },
        "id": "WvfBSlfqmw-g",
        "outputId": "bb7d2dbb-367b-4827-f902-3b0383685189"
      },
      "execution_count": 3,
      "outputs": [
        {
          "output_type": "stream",
          "name": "stdout",
          "text": [
            "Four Wheeler Tesla 100 kWh\n"
          ]
        }
      ]
    },
    {
      "cell_type": "code",
      "source": [
        "#4. Demonstrate polymorphism by creating a base class Bird with a method fly(). Create two derived classes Sparrow and Penguin that override the fly() method.\n",
        "class Bird:\n",
        "    def fly(self):\n",
        "        print(\"Bird can fly\")\n",
        "class Sparrow(Bird):\n",
        "    def fly(self):\n",
        "        print(\"Sparrow flies high\")\n",
        "class Penguin(Bird):\n",
        "    def fly(self):\n",
        "        print(\"Penguin can't fly\")\n",
        "b1 = Sparrow()\n",
        "b2 = Penguin()\n",
        "b1.fly()\n",
        "b2.fly()\n"
      ],
      "metadata": {
        "colab": {
          "base_uri": "https://localhost:8080/"
        },
        "id": "kSw45H6rnBUc",
        "outputId": "7129a368-e02f-42e2-f5b1-0eb9f15462de"
      },
      "execution_count": 4,
      "outputs": [
        {
          "output_type": "stream",
          "name": "stdout",
          "text": [
            "Sparrow flies high\n",
            "Penguin can't fly\n"
          ]
        }
      ]
    },
    {
      "cell_type": "code",
      "source": [
        "#5. Write a program to demonstrate encapsulation by creating a class BankAccount with private attributes balance and methods to deposit, withdraw, and check balance.\n",
        "class BankAccount:\n",
        "    def __init__(self):\n",
        "        self.__balance = 0\n",
        "    def deposit(self, amount):\n",
        "        self.__balance += amount\n",
        "    def withdraw(self, amount):\n",
        "        if amount <= self.__balance:\n",
        "            self.__balance -= amount\n",
        "        else:\n",
        "            print(\"Insufficient balance\")\n",
        "    def check_balance(self):\n",
        "        return self.__balance\n",
        "b = BankAccount()\n",
        "b.deposit(1000)\n",
        "b.withdraw(500)\n",
        "print(b.check_balance())"
      ],
      "metadata": {
        "colab": {
          "base_uri": "https://localhost:8080/"
        },
        "id": "vMK7IjNDnOKt",
        "outputId": "8266f68f-0baf-4233-cac3-5f0946da30ed"
      },
      "execution_count": 5,
      "outputs": [
        {
          "output_type": "stream",
          "name": "stdout",
          "text": [
            "500\n"
          ]
        }
      ]
    },
    {
      "cell_type": "code",
      "source": [
        "#6. Demonstrate runtime polymorphism using a method play() in a base class Instrument. Derive classes Guitar and Piano that implement their own version of play().\n",
        "class Instrument:\n",
        "    def play(self):\n",
        "        print(\"Playing instrument\")\n",
        "class Guitar(Instrument):\n",
        "    def play(self):\n",
        "        print(\"Playing Guitar\")\n",
        "class Piano(Instrument):\n",
        "    def play(self):\n",
        "        print(\"Playing Piano\")\n",
        "i1 = Guitar()\n",
        "i2 = Piano()\n",
        "i1.play()\n",
        "i2.play()"
      ],
      "metadata": {
        "colab": {
          "base_uri": "https://localhost:8080/"
        },
        "id": "4E89fSzunbYU",
        "outputId": "6581ebba-93a8-479b-e8b4-a17bb527c306"
      },
      "execution_count": 6,
      "outputs": [
        {
          "output_type": "stream",
          "name": "stdout",
          "text": [
            "Playing Guitar\n",
            "Playing Piano\n"
          ]
        }
      ]
    },
    {
      "cell_type": "code",
      "source": [
        "#7. Create a class MathOperations with a class method add_numbers() to add two numbers and a static method subtract_numbers() to subtract two numbers.\n",
        "class MathOperations:\n",
        "    @classmethod\n",
        "    def add_numbers(cls, a, b):\n",
        "        return a + b\n",
        "    @staticmethod\n",
        "    def subtract_numbers(a, b):\n",
        "        return a - b\n",
        "print(MathOperations.add_numbers(10, 5))\n",
        "print(MathOperations.subtract_numbers(10, 5))\n"
      ],
      "metadata": {
        "colab": {
          "base_uri": "https://localhost:8080/"
        },
        "id": "516oaKnnnnW4",
        "outputId": "ca5f8d9b-69a3-441f-c558-6cd3e51941e9"
      },
      "execution_count": 7,
      "outputs": [
        {
          "output_type": "stream",
          "name": "stdout",
          "text": [
            "15\n",
            "5\n"
          ]
        }
      ]
    },
    {
      "cell_type": "code",
      "source": [
        "#8. Implement a class Person with a class method to count the total number of persons created.\n",
        "class Person:\n",
        "    count = 0\n",
        "    def __init__(self):\n",
        "        Person.count += 1\n",
        "    @classmethod\n",
        "    def total_persons(cls):\n",
        "        return cls.count\n",
        "p1 = Person()\n",
        "p2 = Person()\n",
        "print(Person.total_persons())"
      ],
      "metadata": {
        "colab": {
          "base_uri": "https://localhost:8080/"
        },
        "id": "jagaZiBOnx2w",
        "outputId": "85e0f165-e05d-48d3-cda6-050885da6917"
      },
      "execution_count": 8,
      "outputs": [
        {
          "output_type": "stream",
          "name": "stdout",
          "text": [
            "2\n"
          ]
        }
      ]
    },
    {
      "cell_type": "code",
      "source": [
        "#9. Write a class Fraction with attributes numerator and denominator. Override the str method to display the fraction as \"numerator/denominator\".\n",
        "class Fraction:\n",
        "    def __init__(self, numerator, denominator):\n",
        "        self.numerator = numerator\n",
        "        self.denominator = denominator\n",
        "    def __str__(self):\n",
        "        return f\"{self.numerator}/{self.denominator}\"\n",
        "f = Fraction(3, 4)\n",
        "print(f)"
      ],
      "metadata": {
        "colab": {
          "base_uri": "https://localhost:8080/"
        },
        "id": "Vegw-ZH5n8RP",
        "outputId": "35d08031-22fd-4d8c-c056-4376877e1837"
      },
      "execution_count": 9,
      "outputs": [
        {
          "output_type": "stream",
          "name": "stdout",
          "text": [
            "3/4\n"
          ]
        }
      ]
    },
    {
      "cell_type": "code",
      "source": [
        "# 10. Demonstrate operator overloading by creating a class Vector and overriding the add method to add two vectors.\n",
        "class Vector:\n",
        "    def __init__(self, x, y):\n",
        "        self.x = x\n",
        "        self.y = y\n",
        "    def __add__(self, other):\n",
        "        return Vector(self.x + other.x, self.y + other.y)\n",
        "    def __str__(self):\n",
        "        return f\"({self.x}, {self.y})\"\n",
        "v1 = Vector(2, 3)\n",
        "v2 = Vector(4, 5)\n",
        "print(v1 + v2)"
      ],
      "metadata": {
        "colab": {
          "base_uri": "https://localhost:8080/"
        },
        "id": "CPq66xYYoKM6",
        "outputId": "4d2fe587-347f-457e-afae-8bd7b5b693fa"
      },
      "execution_count": 10,
      "outputs": [
        {
          "output_type": "stream",
          "name": "stdout",
          "text": [
            "(6, 8)\n"
          ]
        }
      ]
    },
    {
      "cell_type": "code",
      "source": [
        "#11. Create a class Person with attributes name and age. Add a method greet() that prints \"Hello, my name is {name} and I am {age} years old.\n",
        "class Person:\n",
        "    def __init__(self, name, age):\n",
        "        self.name = name\n",
        "        self.age = age\n",
        "    def greet(self):\n",
        "        print(f\"Hello, my name is {self.name} and I am {self.age} years old.\")\n",
        "p = Person(\"Priya\", 20)\n",
        "p.greet()"
      ],
      "metadata": {
        "colab": {
          "base_uri": "https://localhost:8080/"
        },
        "id": "SpYye9cDoYzP",
        "outputId": "6ffd359a-c181-4733-9c05-970aa391ac63"
      },
      "execution_count": 11,
      "outputs": [
        {
          "output_type": "stream",
          "name": "stdout",
          "text": [
            "Hello, my name is Priya and I am 20 years old.\n"
          ]
        }
      ]
    },
    {
      "cell_type": "code",
      "source": [
        "#12. Implement a class Student with attributes name and grades. Create a method average_grade() to compute the average of the grades.\n",
        "class Student:\n",
        "    def __init__(self, name, grades):\n",
        "        self.name = name\n",
        "        self.grades = grades\n",
        "    def average_grade(self):\n",
        "        return sum(self.grades) / len(self.grades)\n",
        "s = Student(\"Priya\", [80, 90, 85])\n",
        "print(s.average_grade())"
      ],
      "metadata": {
        "colab": {
          "base_uri": "https://localhost:8080/"
        },
        "id": "0qYVUINjokzW",
        "outputId": "cb8893a9-85eb-45c3-824e-d0580fed8f2b"
      },
      "execution_count": 12,
      "outputs": [
        {
          "output_type": "stream",
          "name": "stdout",
          "text": [
            "85.0\n"
          ]
        }
      ]
    },
    {
      "cell_type": "code",
      "source": [
        "#13. Create a class Rectangle with methods set_dimensions() to set the dimensions and area() to calculate the area.\n",
        "class Rectangle:\n",
        "    def set_dimensions(self, length, breadth):\n",
        "        self.length = length\n",
        "        self.breadth = breadth\n",
        "    def area(self):\n",
        "        return self.length * self.breadth\n",
        "r = Rectangle()\n",
        "r.set_dimensions(4, 5)\n",
        "print(r.area())"
      ],
      "metadata": {
        "colab": {
          "base_uri": "https://localhost:8080/"
        },
        "id": "kc6aF6Wmot2j",
        "outputId": "7057b2b9-db06-4b25-ba81-88fa20878381"
      },
      "execution_count": 13,
      "outputs": [
        {
          "output_type": "stream",
          "name": "stdout",
          "text": [
            "20\n"
          ]
        }
      ]
    },
    {
      "cell_type": "code",
      "source": [
        "#14. Create a class Employee with a method calculate_salary() that computes the salary based on hours worked and hourly rate.\n",
        "#Create a derived class Manager that adds a bonus to the salary.\n",
        "class Employee:\n",
        "    def calculate_salary(self, hours, rate):\n",
        "        return hours * rate\n",
        "class Manager(Employee):\n",
        "    def calculate_salary(self, hours, rate, bonus):\n",
        "        return super().calculate_salary(hours, rate) + bonus\n",
        "m = Manager()\n",
        "print(m.calculate_salary(40, 100, 5000))"
      ],
      "metadata": {
        "colab": {
          "base_uri": "https://localhost:8080/"
        },
        "id": "DnJO_hRJo4Hb",
        "outputId": "2e0eef9d-f7e4-401a-b4d3-7316e627419f"
      },
      "execution_count": 14,
      "outputs": [
        {
          "output_type": "stream",
          "name": "stdout",
          "text": [
            "9000\n"
          ]
        }
      ]
    },
    {
      "cell_type": "code",
      "source": [
        "#15. Create a class Product with attributes name, price, and quantity. Implement a method total_price() that calculates the total price of the product.\n",
        "class Product:\n",
        "    def __init__(self, name, price, quantity):\n",
        "        self.name = name\n",
        "        self.price = price\n",
        "        self.quantity = quantity\n",
        "    def total_price(self):\n",
        "        return self.price * self.quantity\n",
        "p = Product(\"Pen\", 10, 5)\n",
        "print(p.total_price())"
      ],
      "metadata": {
        "colab": {
          "base_uri": "https://localhost:8080/"
        },
        "id": "ekqWaU7npGsf",
        "outputId": "0362c9d1-5129-4a2f-8e19-8790fec2abe4"
      },
      "execution_count": 15,
      "outputs": [
        {
          "output_type": "stream",
          "name": "stdout",
          "text": [
            "50\n"
          ]
        }
      ]
    },
    {
      "cell_type": "code",
      "source": [
        "#16. Create a class Animal with an abstract method sound(). Create two derived classes Cow and Sheep that implement the sound() method.\n",
        "from abc import ABC, abstractmethod\n",
        "class Animal(ABC):\n",
        "    @abstractmethod\n",
        "    def sound(self):\n",
        "        pass\n",
        "class Cow(Animal):\n",
        "    def sound(self):\n",
        "        print(\"Moo\")\n",
        "class Sheep(Animal):\n",
        "    def sound(self):\n",
        "        print(\"Baa\")\n",
        "c = Cow()\n",
        "s = Sheep()\n",
        "c.sound()\n",
        "s.sound()"
      ],
      "metadata": {
        "colab": {
          "base_uri": "https://localhost:8080/"
        },
        "id": "uyGu-xLwpSXh",
        "outputId": "aad736e8-b6a2-43fb-a143-685674bba12e"
      },
      "execution_count": 16,
      "outputs": [
        {
          "output_type": "stream",
          "name": "stdout",
          "text": [
            "Moo\n",
            "Baa\n"
          ]
        }
      ]
    },
    {
      "cell_type": "code",
      "source": [
        "#17. Create a class Book with attributes title, author, and year_published. Add a method get_book_info() that returns a formatted string with the book's details.\n",
        "class Book:\n",
        "    def __init__(self, title, author, year_published):\n",
        "        self.title = title\n",
        "        self.author = author\n",
        "        self.year_published = year_published\n",
        "    def get_book_info(self):\n",
        "        return f\"Title: {self.title}, Author: {self.author}, Year: {self.year_published}\"\n",
        "b = Book(\"Python Basics\", \"Guido\", 1991)\n",
        "print(b.get_book_info())"
      ],
      "metadata": {
        "colab": {
          "base_uri": "https://localhost:8080/"
        },
        "id": "-FU0QpnopiWJ",
        "outputId": "21cc6956-771a-4881-fb6e-6757b9868da1"
      },
      "execution_count": 18,
      "outputs": [
        {
          "output_type": "stream",
          "name": "stdout",
          "text": [
            "Title: Python Basics, Author: Guido, Year: 1991\n"
          ]
        }
      ]
    },
    {
      "cell_type": "code",
      "source": [
        "#18. Create a class House with attributes address and price. Create a derived class Mansion that adds an attribute number_of_rooms.\n",
        "class House:\n",
        "    def __init__(self, address, price):\n",
        "        self.address = address\n",
        "        self.price = price\n",
        "class Mansion(House):\n",
        "    def __init__(self, address, price, number_of_rooms):\n",
        "        super().__init__(address, price)\n",
        "        self.number_of_rooms = number_of_rooms\n",
        "m = Mansion(\"Hyderabad\", 5000000, 10)\n",
        "print(m.address, m.price, m.number_of_rooms)"
      ],
      "metadata": {
        "colab": {
          "base_uri": "https://localhost:8080/"
        },
        "id": "iCD-UAzmqDJy",
        "outputId": "c85fd321-b672-4eee-e4bf-4913e67bd7c8"
      },
      "execution_count": 19,
      "outputs": [
        {
          "output_type": "stream",
          "name": "stdout",
          "text": [
            "Hyderabad 5000000 10\n"
          ]
        }
      ]
    }
  ]
}